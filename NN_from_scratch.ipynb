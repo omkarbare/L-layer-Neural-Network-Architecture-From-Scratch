{
  "nbformat": 4,
  "nbformat_minor": 0,
  "metadata": {
    "colab": {
      "provenance": [],
      "collapsed_sections": [
        "7BCdDPQiyMZS",
        "_GMN541gy17o",
        "56JjREOr1FPu",
        "2wm22VNL1e3g",
        "3NrZgAgy_yi1",
        "xKzu87EOqwhF",
        "58vPVJRqsRze",
        "WRK11Y9ywdrK"
      ],
      "toc_visible": true
    },
    "kernelspec": {
      "name": "python3",
      "display_name": "Python 3"
    },
    "accelerator": "GPU"
  },
  "cells": [
    {
      "cell_type": "markdown",
      "metadata": {
        "id": "c35vEcljFh3x"
      },
      "source": [
        "### The code below is everything learned by me in the introductory course 'neural networks & deep learning' taught by Andrew Ng in deep learning specialization by 'deeplearning.ai'\n",
        "\n",
        "the model made is not well optimized but can be better tuned to handle problems of high bias and overfitting!"
      ]
    },
    {
      "cell_type": "code",
      "metadata": {
        "id": "ndv9ty74VCf6"
      },
      "source": [
        "import tensorflow as tf\n",
        "import pandas as pd\n",
        "import numpy as np\n",
        "import matplotlib.pyplot as plt\n",
        "from matplotlib.image import imread\n",
        "from IPython.display import Image\n",
        "\n",
        "%matplotlib inline"
      ],
      "execution_count": null,
      "outputs": []
    },
    {
      "cell_type": "code",
      "metadata": {
        "id": "VDv60fRkeBD1",
        "outputId": "6dd0645b-af6d-432e-c0bd-61e2f51e6750",
        "colab": {
          "base_uri": "https://localhost:8080/",
          "height": 50
        }
      },
      "source": [
        "print(\"Tensorflow Version:\",tf.__version__)\n",
        "print(\"GPU\",\"Available\" if tf.config.list_physical_devices(\"GPU\") else \"Not Available!\")"
      ],
      "execution_count": null,
      "outputs": [
        {
          "output_type": "stream",
          "text": [
            "Tensorflow Version: 2.3.0\n",
            "GPU Available\n"
          ],
          "name": "stdout"
        }
      ]
    },
    {
      "cell_type": "markdown",
      "metadata": {
        "id": "9Emem8JQ_jdC"
      },
      "source": [
        "Kaggle \"dogs-vs-cats\" [dataset](https://www.kaggle.com/c/dogs-vs-cats/data)"
      ]
    },
    {
      "cell_type": "code",
      "metadata": {
        "id": "Jo1vOMxE7bnd",
        "outputId": "127e0736-c3a8-4c03-92b7-51c0f128f066",
        "colab": {
          "base_uri": "https://localhost:8080/",
          "height": 84
        }
      },
      "source": [
        "#!unzip \"/content/drive/My Drive/cats-dogs/dogs-vs-cats.zip\" -d \"/content/drive/My Drive/cats-dogs\""
      ],
      "execution_count": null,
      "outputs": [
        {
          "output_type": "stream",
          "text": [
            "Archive:  /content/drive/My Drive/cats-dogs/dogs-vs-cats.zip\n",
            "  inflating: /content/drive/My Drive/cats-dogs/sampleSubmission.csv  \n",
            "  inflating: /content/drive/My Drive/cats-dogs/test1.zip  \n",
            "  inflating: /content/drive/My Drive/cats-dogs/train.zip  \n"
          ],
          "name": "stdout"
        }
      ]
    },
    {
      "cell_type": "code",
      "metadata": {
        "id": "xhbeEkRL--zA"
      },
      "source": [
        "#!unzip \"/content/drive/My Drive/cats-dogs/test1.zip\" -d \"/content/drive/My Drive/cats-dogs\"\n",
        "#!unzip \"/content/drive/My Drive/cats-dogs/train.zip\" -d \"/content/drive/My Drive/cats-dogs\""
      ],
      "execution_count": null,
      "outputs": []
    },
    {
      "cell_type": "markdown",
      "metadata": {
        "id": "dw63xzVMpxD7"
      },
      "source": [
        "# Building L-layer Neural Network Architecture From Scratch"
      ]
    },
    {
      "cell_type": "code",
      "metadata": {
        "id": "Ihj3Y2KHfSrC"
      },
      "source": [
        "import numpy as np\n",
        "import matplotlib.pyplot as plt\n",
        "\n",
        "%matplotlib inline"
      ],
      "execution_count": null,
      "outputs": []
    },
    {
      "cell_type": "markdown",
      "metadata": {
        "id": "qvM2KUzoqF3D"
      },
      "source": [
        "## Initialize parameters "
      ]
    },
    {
      "cell_type": "code",
      "metadata": {
        "id": "Jf8ozbbppD4h"
      },
      "source": [
        "def initialize_parameters_deep(layer_dims):\n",
        "    \"\"\"\n",
        "    Arguments:\n",
        "    layer_dims -- python array (list) containing the dimensions of each layer in our network\n",
        "    \n",
        "    Returns:\n",
        "    parameters -- python dictionary containing your parameters \"W1\", \"b1\", ..., \"WL\", \"bL\":\n",
        "                    Wl -- weight matrix of shape (layer_dims[l], layer_dims[l-1])\n",
        "                    bl -- bias vector of shape (layer_dims[l], 1)\n",
        "    \"\"\"\n",
        "    \n",
        "    np.random.seed(3)\n",
        "    parameters = {}\n",
        "    L = len(layer_dims)            # number of layers in the network\n",
        "\n",
        "    for l in range(1, L):\n",
        "        parameters['W' + str(l)] = np.random.randn(layer_dims[l],layer_dims[l-1])*0.01\n",
        "        parameters['b' + str(l)] = np.zeros((layer_dims[l],1))\n",
        "        \n",
        "        assert(parameters['W' + str(l)].shape == (layer_dims[l], layer_dims[l-1]))\n",
        "        assert(parameters['b' + str(l)].shape == (layer_dims[l], 1))\n",
        "\n",
        "    return parameters"
      ],
      "execution_count": null,
      "outputs": []
    },
    {
      "cell_type": "markdown",
      "metadata": {
        "id": "LQMAHtxYrIOv"
      },
      "source": [
        "## Forward propagation\n",
        "\n",
        "* sigmoid, relu\n",
        "* linear_forward\n",
        "* linear_activation_forward\n",
        "* L_model_forward"
      ]
    },
    {
      "cell_type": "code",
      "metadata": {
        "id": "fZ3YmIsYrFQd"
      },
      "source": [
        "def sigmoid(Z):\n",
        "    \"\"\"\n",
        "    Implements the sigmoid activation in numpy\n",
        "    \n",
        "    Arguments:\n",
        "    Z -- numpy array of any shape\n",
        "    \n",
        "    Returns:\n",
        "    A -- output of sigmoid(z), same shape as Z\n",
        "    cache -- returns Z as well, useful during backpropagation\n",
        "    \"\"\"\n",
        "    \n",
        "    A = 1/(1+np.exp(-Z))\n",
        "    cache = Z\n",
        "    \n",
        "    return A, cache"
      ],
      "execution_count": null,
      "outputs": []
    },
    {
      "cell_type": "code",
      "metadata": {
        "id": "p-8nysSts4Wi"
      },
      "source": [
        "def relu(Z):\n",
        "    \"\"\"\n",
        "    Implement the RELU function.\n",
        "\n",
        "    Arguments:\n",
        "    Z -- Output of the linear layer, of any shape\n",
        "\n",
        "    Returns:\n",
        "    A -- Post-activation parameter, of the same shape as Z\n",
        "    cache -- a python dictionary containing \"A\" ; stored for computing the backward pass efficiently\n",
        "    \"\"\"\n",
        "    \n",
        "    A = np.maximum(0,Z)\n",
        "    \n",
        "    assert(A.shape == Z.shape)\n",
        "    \n",
        "    cache = Z \n",
        "    return A, cache"
      ],
      "execution_count": null,
      "outputs": []
    },
    {
      "cell_type": "code",
      "metadata": {
        "id": "CngDMl0itTKc"
      },
      "source": [
        "def linear_forward(A, W, b):\n",
        "    \"\"\"\n",
        "    Implement the linear part of a layer's forward propagation.\n",
        "\n",
        "    Arguments:\n",
        "    A -- activations from previous layer (or input data): (size of previous layer, number of examples)\n",
        "    W -- weights matrix: numpy array of shape (size of current layer, size of previous layer)\n",
        "    b -- bias vector, numpy array of shape (size of the current layer, 1)\n",
        "\n",
        "    Returns:\n",
        "    Z -- the input of the activation function, also called pre-activation parameter \n",
        "    cache -- a python dictionary containing \"A\", \"W\" and \"b\" ; stored for computing the backward pass efficiently\n",
        "    \"\"\"\n",
        "    \n",
        "    Z = np.dot(W,A)+b\n",
        "    \n",
        "    assert(Z.shape == (W.shape[0], A.shape[1]))\n",
        "    cache = (A, W, b)\n",
        "    \n",
        "    return Z, cache"
      ],
      "execution_count": null,
      "outputs": []
    },
    {
      "cell_type": "code",
      "metadata": {
        "id": "2Hy6LEy2wjQK"
      },
      "source": [
        "def linear_activation_forward(A_prev, W, b, activation):\n",
        "    \"\"\"\n",
        "    Implement the forward propagation for the LINEAR->ACTIVATION layer\n",
        "\n",
        "    Arguments:\n",
        "    A_prev -- activations from previous layer (or input data): (size of previous layer, number of examples)\n",
        "    W -- weights matrix: numpy array of shape (size of current layer, size of previous layer)\n",
        "    b -- bias vector, numpy array of shape (size of the current layer, 1)\n",
        "    activation -- the activation to be used in this layer, stored as a text string: \"sigmoid\" or \"relu\"\n",
        "\n",
        "    Returns:\n",
        "    A -- the output of the activation function, also called the post-activation value \n",
        "    cache -- a python dictionary containing \"linear_cache\" and \"activation_cache\";\n",
        "             stored for computing the backward pass efficiently\n",
        "    \"\"\"\n",
        "    \n",
        "    if activation == \"sigmoid\":\n",
        "        # Inputs: \"A_prev, W, b\". Outputs: \"A, activation_cache\".\n",
        "        Z, linear_cache = linear_forward(A_prev,W,b)\n",
        "        A, activation_cache = sigmoid(Z)\n",
        "    \n",
        "    elif activation == \"relu\":\n",
        "        # Inputs: \"A_prev, W, b\". Outputs: \"A, activation_cache\".\n",
        "        Z, linear_cache = linear_forward(A_prev,W,b)\n",
        "        A, activation_cache = relu(Z)\n",
        "    \n",
        "    assert (A.shape == (W.shape[0], A_prev.shape[1]))\n",
        "    cache = (linear_cache, activation_cache)\n",
        "\n",
        "    return A, cache"
      ],
      "execution_count": null,
      "outputs": []
    },
    {
      "cell_type": "code",
      "metadata": {
        "id": "z7cZsaf4w7e8"
      },
      "source": [
        "def L_model_forward(X, parameters):\n",
        "    \"\"\"\n",
        "    Implement forward propagation for the [LINEAR->RELU]*(L-1)->LINEAR->SIGMOID computation\n",
        "    \n",
        "    Arguments:\n",
        "    X -- data, numpy array of shape (input size, number of examples)\n",
        "    parameters -- output of initialize_parameters_deep()\n",
        "    \n",
        "    Returns:\n",
        "    AL -- last post-activation value\n",
        "    caches -- list of caches containing:\n",
        "                every cache of linear_relu_forward() (there are L-1 of them, indexed from 0 to L-2)\n",
        "                the cache of linear_sigmoid_forward() (there is one, indexed L-1)\n",
        "    \"\"\"\n",
        "\n",
        "    caches = []\n",
        "    A = X\n",
        "    L = len(parameters) // 2                  # number of layers in the neural network\n",
        "    \n",
        "    # Implement [LINEAR -> RELU]*(L-1). Add \"cache\" to the \"caches\" list.\n",
        "    for l in range(1, L):\n",
        "        A_prev = A \n",
        "        A, cache = linear_activation_forward(A_prev,parameters['W'+str(l)],parameters['b' + str(l)],\"relu\")\n",
        "        caches.append(cache)\n",
        "    \n",
        "    # Implement LINEAR -> SIGMOID. Add \"cache\" to the \"caches\" list.\n",
        "    AL, cache = linear_activation_forward(A,parameters['W'+str(L)],parameters['b'+str(L)],\"sigmoid\")\n",
        "    caches.append(cache)\n",
        "    \n",
        "    assert(AL.shape == (1,X.shape[1]))\n",
        "            \n",
        "    return AL, caches"
      ],
      "execution_count": null,
      "outputs": []
    },
    {
      "cell_type": "markdown",
      "metadata": {
        "id": "7BCdDPQiyMZS"
      },
      "source": [
        "## Compute Cost"
      ]
    },
    {
      "cell_type": "code",
      "metadata": {
        "id": "_nnemJW_xPgR"
      },
      "source": [
        "def compute_cost(AL, Y):\n",
        "    \"\"\"\n",
        "    Implement the cost function defined by equation (7).\n",
        "\n",
        "    Arguments:\n",
        "    AL -- probability vector corresponding to your label predictions, shape (1, number of examples)\n",
        "    Y -- true \"label\" vector (for example: containing 0 if non-cat, 1 if cat), shape (1, number of examples)\n",
        "\n",
        "    Returns:\n",
        "    cost -- cross-entropy cost\n",
        "    \"\"\"\n",
        "    \n",
        "    m = Y.shape[1]\n",
        "\n",
        "    # Compute loss from AL and y.\n",
        "    logprobs = np.multiply(np.log(AL), Y) + np.multiply((1 - Y), np.log(1 - AL))\n",
        "    cost = -1/m*np.sum(logprobs)\n",
        "    \n",
        "    cost = np.squeeze(cost)      # To make sure your cost's shape is what we expect (e.g. this turns [[17]] into 17).\n",
        "    assert(cost.shape == ())\n",
        "    \n",
        "    return cost"
      ],
      "execution_count": null,
      "outputs": []
    },
    {
      "cell_type": "markdown",
      "metadata": {
        "id": "_GMN541gy17o"
      },
      "source": [
        "## Backward Propagation\n",
        "\n",
        "* sigmoid_backward, relu_backward\n",
        "* linear_backward\n",
        "* linear_activation_backward\n",
        "* L_model_backward"
      ]
    },
    {
      "cell_type": "code",
      "metadata": {
        "id": "5Enx7qVlyxhC"
      },
      "source": [
        "def sigmoid_backward(dA, cache):\n",
        "    \"\"\"\n",
        "    Implement the backward propagation for a single SIGMOID unit.\n",
        "\n",
        "    Arguments:\n",
        "    dA -- post-activation gradient, of any shape\n",
        "    cache -- 'Z' where we store for computing backward propagation efficiently\n",
        "\n",
        "    Returns:\n",
        "    dZ -- Gradient of the cost with respect to Z\n",
        "    \"\"\"\n",
        "    \n",
        "    Z = cache\n",
        "    \n",
        "    s = 1/(1+np.exp(-Z))\n",
        "    dZ = dA * s * (1-s)\n",
        "    \n",
        "    assert (dZ.shape == Z.shape)\n",
        "    \n",
        "    return dZ"
      ],
      "execution_count": null,
      "outputs": []
    },
    {
      "cell_type": "code",
      "metadata": {
        "id": "Iuuojuumz0Zs"
      },
      "source": [
        "def relu_backward(dA, cache):\n",
        "    \"\"\"\n",
        "    Implement the backward propagation for a single RELU unit.\n",
        "\n",
        "    Arguments:\n",
        "    dA -- post-activation gradient, of any shape\n",
        "    cache -- 'Z' where we store for computing backward propagation efficiently\n",
        "\n",
        "    Returns:\n",
        "    dZ -- Gradient of the cost with respect to Z\n",
        "    \"\"\"\n",
        "    \n",
        "    Z = cache\n",
        "    dZ = np.array(dA, copy=True) # converting dz to a correct object.\n",
        "    \n",
        "    # When z <= 0, set dz to 0  \n",
        "    dZ[Z <= 0] = 0\n",
        "    \n",
        "    assert (dZ.shape == Z.shape)\n",
        "    \n",
        "    return dZ"
      ],
      "execution_count": null,
      "outputs": []
    },
    {
      "cell_type": "code",
      "metadata": {
        "id": "GbZ4vTfv0MFF"
      },
      "source": [
        "def linear_backward(dZ, cache):\n",
        "    \"\"\"\n",
        "    Implement the linear portion of backward propagation for a single layer (layer l)\n",
        "\n",
        "    Arguments:\n",
        "    dZ -- Gradient of the cost with respect to the linear output (of current layer l)\n",
        "    cache -- tuple of values (A_prev, W, b) coming from the forward propagation in the current layer\n",
        "\n",
        "    Returns:\n",
        "    dA_prev -- Gradient of the cost with respect to the activation (of the previous layer l-1), same shape as A_prev\n",
        "    dW -- Gradient of the cost with respect to W (current layer l), same shape as W\n",
        "    db -- Gradient of the cost with respect to b (current layer l), same shape as b\n",
        "    \"\"\"\n",
        "    A_prev, W, b = cache\n",
        "    m = A_prev.shape[1]\n",
        "\n",
        "    dW = 1/m*np.dot(dZ,A_prev.T)\n",
        "    db =  1/m*(np.sum(dZ,axis=1, keepdims=True))\n",
        "    dA_prev = np.dot(W.T,dZ)\n",
        "    \n",
        "    assert (dA_prev.shape == A_prev.shape)\n",
        "    assert (dW.shape == W.shape)\n",
        "    assert (db.shape == b.shape)\n",
        "    \n",
        "    return dA_prev, dW, db"
      ],
      "execution_count": null,
      "outputs": []
    },
    {
      "cell_type": "code",
      "metadata": {
        "id": "MdpglwPT0X7w"
      },
      "source": [
        "def linear_activation_backward(dA, cache, activation):\n",
        "    \"\"\"\n",
        "    Implement the backward propagation for the LINEAR->ACTIVATION layer.\n",
        "    \n",
        "    Arguments:\n",
        "    dA -- post-activation gradient for current layer l \n",
        "    cache -- tuple of values (linear_cache, activation_cache) we store for computing backward propagation efficiently\n",
        "    activation -- the activation to be used in this layer, stored as a text string: \"sigmoid\" or \"relu\"\n",
        "    \n",
        "    Returns:\n",
        "    dA_prev -- Gradient of the cost with respect to the activation (of the previous layer l-1), same shape as A_prev\n",
        "    dW -- Gradient of the cost with respect to W (current layer l), same shape as W\n",
        "    db -- Gradient of the cost with respect to b (current layer l), same shape as b\n",
        "    \"\"\"\n",
        "    linear_cache, activation_cache = cache\n",
        "    \n",
        "    if activation == \"relu\":\n",
        "        dZ = relu_backward(dA,activation_cache)\n",
        "        dA_prev, dW, db = linear_backward(dZ,linear_cache)\n",
        "        \n",
        "    elif activation == \"sigmoid\":\n",
        "        dZ = sigmoid_backward(dA,activation_cache)\n",
        "        dA_prev, dW, db = linear_backward(dZ,linear_cache)\n",
        "    \n",
        "    return dA_prev, dW, db"
      ],
      "execution_count": null,
      "outputs": []
    },
    {
      "cell_type": "code",
      "metadata": {
        "id": "dpYG6KJK0nRU"
      },
      "source": [
        "def L_model_backward(AL, Y, caches):\n",
        "    \"\"\"\n",
        "    Implement the backward propagation for the [LINEAR->RELU] * (L-1) -> LINEAR -> SIGMOID group\n",
        "    \n",
        "    Arguments:\n",
        "    AL -- probability vector, output of the forward propagation (L_model_forward())\n",
        "    Y -- true \"label\" vector (containing 0 if non-cat, 1 if cat)\n",
        "    caches -- list of caches containing:\n",
        "                every cache of linear_activation_forward() with \"relu\" (it's caches[l], for l in range(L-1) i.e l = 0...L-2)\n",
        "                the cache of linear_activation_forward() with \"sigmoid\" (it's caches[L-1])\n",
        "    \n",
        "    Returns:\n",
        "    grads -- A dictionary with the gradients\n",
        "             grads[\"dA\" + str(l)] = ... \n",
        "             grads[\"dW\" + str(l)] = ...\n",
        "             grads[\"db\" + str(l)] = ... \n",
        "    \"\"\"\n",
        "    grads = {}\n",
        "    L = len(caches) # the number of layers\n",
        "    m = AL.shape[1]\n",
        "    Y = Y.reshape(AL.shape) # after this line, Y is the same shape as AL\n",
        "    \n",
        "    # Initializing the backpropagation\n",
        "    dAL = - (np.divide(Y, AL) - np.divide(1 - Y, 1 - AL))\n",
        "    \n",
        "    # Lth layer (SIGMOID -> LINEAR) gradients. Inputs: \"AL, Y, caches\". Outputs: \"grads[\"dAL\"], grads[\"dWL\"], grads[\"dbL\"]\n",
        "    current_cache = caches[L-1]\n",
        "    grads[\"dA\" + str(L)], grads[\"dW\" + str(L)], grads[\"db\" + str(L)] = linear_activation_backward(dAL,current_cache,\"sigmoid\")\n",
        "    \n",
        "    for l in reversed(range(L-1)):\n",
        "        # lth layer: (RELU -> LINEAR) gradients.\n",
        "        # Inputs: \"grads[\"dA\" + str(l + 2)], caches\". Outputs: \"grads[\"dA\" + str(l + 1)] , grads[\"dW\" + str(l + 1)] , grads[\"db\" + str(l + 1)] \n",
        "        current_cache = caches[l]\n",
        "        dA_prev_temp, dW_temp, db_temp = linear_activation_backward(grads[\"dA\"+str(l+2)],current_cache,\"relu\")\n",
        "        grads[\"dA\" + str(l + 1)] = dA_prev_temp\n",
        "        grads[\"dW\" + str(l + 1)] = dW_temp\n",
        "        grads[\"db\" + str(l + 1)] = db_temp\n",
        "\n",
        "    return grads"
      ],
      "execution_count": null,
      "outputs": []
    },
    {
      "cell_type": "markdown",
      "metadata": {
        "id": "56JjREOr1FPu"
      },
      "source": [
        "## Update Parameters"
      ]
    },
    {
      "cell_type": "code",
      "metadata": {
        "id": "DNGgN9Nm0_do"
      },
      "source": [
        "def update_parameters(parameters, grads, learning_rate):\n",
        "    \"\"\"\n",
        "    Update parameters using gradient descent\n",
        "    \n",
        "    Arguments:\n",
        "    parameters -- python dictionary containing your parameters \n",
        "    grads -- python dictionary containing your gradients, output of L_model_backward\n",
        "    \n",
        "    Returns:\n",
        "    parameters -- python dictionary containing your updated parameters \n",
        "                  parameters[\"W\" + str(l)] = ... \n",
        "                  parameters[\"b\" + str(l)] = ...\n",
        "    \"\"\"\n",
        "    \n",
        "    L = len(parameters) // 2 # number of layers in the neural network\n",
        "    for i in range(1,L+1):\n",
        "        parameters[\"W\" + str(i)] = parameters[\"W\" + str(i)] - learning_rate*grads[\"dW\"+str(i)]\n",
        "        parameters[\"b\" + str(i)] = parameters[\"b\" + str(i)] - learning_rate*grads[\"db\"+str(i)]\n",
        "        \n",
        "    return parameters"
      ],
      "execution_count": null,
      "outputs": []
    },
    {
      "cell_type": "markdown",
      "metadata": {
        "id": "2wm22VNL1e3g"
      },
      "source": [
        "## L-layer Neural Network model"
      ]
    },
    {
      "cell_type": "code",
      "metadata": {
        "id": "IcwE16tA1ob8"
      },
      "source": [
        "def L_layer_model(X, Y, layers_dims, learning_rate = 0.0075, num_iterations = 3000, print_cost=False):\n",
        "    \"\"\"\n",
        "    Implements a L-layer neural network: [LINEAR->RELU]*(L-1)->LINEAR->SIGMOID.\n",
        "    \n",
        "    Arguments:\n",
        "    X -- data, numpy array of shape (number of examples, num_px * num_px * 3)\n",
        "    Y -- true \"label\" vector (containing 0 if cat, 1 if non-cat), of shape (1, number of examples)\n",
        "    layers_dims -- list containing the input size and each layer size, of length (number of layers + 1).\n",
        "    learning_rate -- learning rate of the gradient descent update rule\n",
        "    num_iterations -- number of iterations of the optimization loop\n",
        "    print_cost -- if True, it prints the cost every 100 steps\n",
        "    \n",
        "    Returns:\n",
        "    parameters -- parameters learnt by the model. They can then be used to predict.\n",
        "    \"\"\"\n",
        "\n",
        "    np.random.seed(1)\n",
        "    costs = []                         # keep track of cost\n",
        "    \n",
        "    # Parameters initialization.\n",
        "    parameters = initialize_parameters_deep(layers_dims)\n",
        "\n",
        "    # Loop (gradient descent)\n",
        "    for i in range(0, num_iterations):\n",
        "\n",
        "        # Forward propagation: [LINEAR -> RELU]*(L-1) -> LINEAR -> SIGMOID.\n",
        "        AL, caches = L_model_forward(X,parameters)\n",
        "        \n",
        "        # Compute cost:\n",
        "        cost = compute_cost(AL,Y)\n",
        "    \n",
        "        # Backward propagation:\n",
        "        grads = L_model_backward(AL,Y,caches)\n",
        " \n",
        "        # Update parameters:\n",
        "        parameters = update_parameters(parameters,grads,learning_rate)\n",
        "                \n",
        "        # Print the cost every 100 training example\n",
        "        if print_cost and i % 100 == 0:\n",
        "            print (\"Cost after iteration %i: %f\" %(i, cost))\n",
        "        if print_cost and i % 100 == 0:\n",
        "            costs.append(cost)\n",
        "            \n",
        "    # plot the cost\n",
        "    plt.plot(np.squeeze(costs))\n",
        "    plt.ylabel('cost')\n",
        "    plt.xlabel('iterations (per tens)')\n",
        "    plt.title(\"Learning rate =\" + str(learning_rate))\n",
        "    plt.show()\n",
        "\n",
        "    return parameters"
      ],
      "execution_count": null,
      "outputs": []
    },
    {
      "cell_type": "markdown",
      "metadata": {
        "id": "3NrZgAgy_yi1"
      },
      "source": [
        "## Predictions"
      ]
    },
    {
      "cell_type": "code",
      "metadata": {
        "id": "3d7Qpcng6De-"
      },
      "source": [
        "def predict(X, y, parameters, new=False):\n",
        "    \"\"\"\n",
        "    This function is used to predict the results of a  L-layer neural network.\n",
        "    \n",
        "    Arguments:\n",
        "    X -- data set of examples you would like to label\n",
        "    parameters -- parameters of the trained model\n",
        "    \n",
        "    Returns:\n",
        "    p -- predictions for the given dataset X\n",
        "    \"\"\"\n",
        "    \n",
        "    m = X.shape[1]\n",
        "    n = len(parameters) // 2 # number of layers in the neural network\n",
        "    p = np.zeros((1,m))\n",
        "    \n",
        "    # Forward propagation\n",
        "    probas, caches = L_model_forward(X, parameters)\n",
        "\n",
        "    \n",
        "    # convert probas to 0/1 predictions\n",
        "    for i in range(0, probas.shape[1]):\n",
        "        if probas[0,i] > 0.5:\n",
        "            p[0,i] = 1\n",
        "        else:\n",
        "            p[0,i] = 0\n",
        "    \n",
        "    #print results\n",
        "    if new:\n",
        "      print (\"prediction: \" + str(p))\n",
        "\n",
        "    print(\"Accuracy: \"  + str(np.sum((p == y)/m)))\n",
        "        \n",
        "    return p\n"
      ],
      "execution_count": null,
      "outputs": []
    },
    {
      "cell_type": "markdown",
      "metadata": {
        "id": "sr84GxmigiR1"
      },
      "source": [
        "# Data Preprocessing"
      ]
    },
    {
      "cell_type": "code",
      "metadata": {
        "id": "Ion92Zm-cD5C"
      },
      "source": [
        "import os\n",
        "import tensorflow as tf\n",
        "import pandas as pd\n",
        "import pickle\n",
        "from matplotlib.image import imread\n",
        "from IPython.display import Image"
      ],
      "execution_count": null,
      "outputs": []
    },
    {
      "cell_type": "code",
      "metadata": {
        "id": "XYjAQcoghBCc",
        "outputId": "2e133bff-d650-40b2-956e-dce551c63464",
        "colab": {
          "base_uri": "https://localhost:8080/",
          "height": 50
        }
      },
      "source": [
        "print(\"Tensorflow Version:\",tf.__version__)\n",
        "print(\"GPU\",\"Available\" if tf.config.list_physical_devices(\"GPU\") else \"Not Available!\")"
      ],
      "execution_count": null,
      "outputs": [
        {
          "output_type": "stream",
          "text": [
            "Tensorflow Version: 2.3.0\n",
            "GPU Available\n"
          ],
          "name": "stdout"
        }
      ]
    },
    {
      "cell_type": "code",
      "metadata": {
        "id": "wltxiwi0mXLd"
      },
      "source": [
        "# train_images = []\n",
        "# for filename in os.listdir(\"/content/drive/My Drive/cats-dogs/train\"):\n",
        "#     if filename.endswith(\"jpg\"):\n",
        "#       train_images.append(filename)"
      ],
      "execution_count": null,
      "outputs": []
    },
    {
      "cell_type": "code",
      "metadata": {
        "id": "52Cu7d-nmwNd",
        "outputId": "8ce3fbfb-3d76-4f5b-8d0d-c1ce7c4cb536",
        "colab": {
          "base_uri": "https://localhost:8080/",
          "height": 35
        }
      },
      "source": [
        "# train_images[0]"
      ],
      "execution_count": null,
      "outputs": [
        {
          "output_type": "execute_result",
          "data": {
            "application/vnd.google.colaboratory.intrinsic+json": {
              "type": "string"
            },
            "text/plain": [
              "'cat.9596.jpg'"
            ]
          },
          "metadata": {
            "tags": []
          },
          "execution_count": 12
        }
      ]
    },
    {
      "cell_type": "code",
      "metadata": {
        "id": "dGczsk0Mmy8j",
        "outputId": "e249c8f1-a86d-412a-954c-a50d81dd4d64",
        "colab": {
          "base_uri": "https://localhost:8080/",
          "height": 34
        }
      },
      "source": [
        "# len(train_images)"
      ],
      "execution_count": null,
      "outputs": [
        {
          "output_type": "execute_result",
          "data": {
            "text/plain": [
              "25000"
            ]
          },
          "metadata": {
            "tags": []
          },
          "execution_count": 13
        }
      ]
    },
    {
      "cell_type": "code",
      "metadata": {
        "id": "u8JFzC8Nm1YJ"
      },
      "source": [
        "# with open(\"train_images.pickle\", \"wb\") as handle:\n",
        "#   pickle.dump(train_images, handle, protocol=pickle.HIGHEST_PROTOCOL)"
      ],
      "execution_count": null,
      "outputs": []
    },
    {
      "cell_type": "markdown",
      "metadata": {
        "id": "xKzu87EOqwhF"
      },
      "source": [
        "## Create DataFrame of training images"
      ]
    },
    {
      "cell_type": "code",
      "metadata": {
        "id": "YJ9lCCGunQlk"
      },
      "source": [
        "with open(\"/content/drive/My Drive/cats-dogs/train_images.pickle\", \"rb\") as handle:\n",
        "  train_images = pickle.load(handle)"
      ],
      "execution_count": null,
      "outputs": []
    },
    {
      "cell_type": "code",
      "metadata": {
        "id": "OurV7GiHoFtI",
        "outputId": "060e3053-9363-4431-b241-31014afcb419",
        "colab": {
          "base_uri": "https://localhost:8080/",
          "height": 34
        }
      },
      "source": [
        "len(train_images)"
      ],
      "execution_count": null,
      "outputs": [
        {
          "output_type": "execute_result",
          "data": {
            "text/plain": [
              "25000"
            ]
          },
          "metadata": {
            "tags": []
          },
          "execution_count": 21
        }
      ]
    },
    {
      "cell_type": "code",
      "metadata": {
        "id": "jjgWJsWnoH5G",
        "outputId": "b7768796-4b6b-4785-a1cb-01fd3ec38f73",
        "colab": {
          "base_uri": "https://localhost:8080/",
          "height": 35
        }
      },
      "source": [
        "train_images[0]"
      ],
      "execution_count": null,
      "outputs": [
        {
          "output_type": "execute_result",
          "data": {
            "application/vnd.google.colaboratory.intrinsic+json": {
              "type": "string"
            },
            "text/plain": [
              "'cat.9596.jpg'"
            ]
          },
          "metadata": {
            "tags": []
          },
          "execution_count": 22
        }
      ]
    },
    {
      "cell_type": "code",
      "metadata": {
        "id": "_Zf3_WauoVBW"
      },
      "source": [
        "df_images = pd.DataFrame(train_images, columns=[\"images_name\"])"
      ],
      "execution_count": null,
      "outputs": []
    },
    {
      "cell_type": "code",
      "metadata": {
        "id": "RJK1Bk91owrJ",
        "outputId": "8fb50781-292b-41d1-e42c-e6a928b8f65f",
        "colab": {
          "base_uri": "https://localhost:8080/",
          "height": 195
        }
      },
      "source": [
        "df_images.head()"
      ],
      "execution_count": null,
      "outputs": [
        {
          "output_type": "execute_result",
          "data": {
            "text/html": [
              "<div>\n",
              "<style scoped>\n",
              "    .dataframe tbody tr th:only-of-type {\n",
              "        vertical-align: middle;\n",
              "    }\n",
              "\n",
              "    .dataframe tbody tr th {\n",
              "        vertical-align: top;\n",
              "    }\n",
              "\n",
              "    .dataframe thead th {\n",
              "        text-align: right;\n",
              "    }\n",
              "</style>\n",
              "<table border=\"1\" class=\"dataframe\">\n",
              "  <thead>\n",
              "    <tr style=\"text-align: right;\">\n",
              "      <th></th>\n",
              "      <th>images_name</th>\n",
              "    </tr>\n",
              "  </thead>\n",
              "  <tbody>\n",
              "    <tr>\n",
              "      <th>0</th>\n",
              "      <td>cat.9596.jpg</td>\n",
              "    </tr>\n",
              "    <tr>\n",
              "      <th>1</th>\n",
              "      <td>cat.9545.jpg</td>\n",
              "    </tr>\n",
              "    <tr>\n",
              "      <th>2</th>\n",
              "      <td>cat.9574.jpg</td>\n",
              "    </tr>\n",
              "    <tr>\n",
              "      <th>3</th>\n",
              "      <td>cat.9560.jpg</td>\n",
              "    </tr>\n",
              "    <tr>\n",
              "      <th>4</th>\n",
              "      <td>cat.9586.jpg</td>\n",
              "    </tr>\n",
              "  </tbody>\n",
              "</table>\n",
              "</div>"
            ],
            "text/plain": [
              "    images_name\n",
              "0  cat.9596.jpg\n",
              "1  cat.9545.jpg\n",
              "2  cat.9574.jpg\n",
              "3  cat.9560.jpg\n",
              "4  cat.9586.jpg"
            ]
          },
          "metadata": {
            "tags": []
          },
          "execution_count": 24
        }
      ]
    },
    {
      "cell_type": "code",
      "metadata": {
        "id": "bNrku48Hozi8"
      },
      "source": [
        "def create_paths(image_names, train=True):\n",
        "  \"\"\"\n",
        "  Arguments:\n",
        "  image_name -- list of image names\n",
        "\n",
        "  Return:\n",
        "  list of image's pathnames\n",
        "  \"\"\"\n",
        "  images_paths=[]\n",
        "\n",
        "  for i in train_images:\n",
        "    if train:\n",
        "      images_paths.append(\"/content/drive/My Drive/cats-dogs/train/\"+i)\n",
        "    else:\n",
        "      images_paths.append(\"/content/drive/My Drive/cats-dogs/test/\"+i)\n",
        "  return images_paths  "
      ],
      "execution_count": null,
      "outputs": []
    },
    {
      "cell_type": "code",
      "metadata": {
        "id": "AqyfWj8OpAke"
      },
      "source": [
        "images_paths = create_paths(train_images)"
      ],
      "execution_count": null,
      "outputs": []
    },
    {
      "cell_type": "code",
      "metadata": {
        "id": "LEmUuKOYpKzV"
      },
      "source": [
        "df_images[\"image_paths\"] = images_paths "
      ],
      "execution_count": null,
      "outputs": []
    },
    {
      "cell_type": "code",
      "metadata": {
        "id": "SRftOmRppXs8",
        "outputId": "abb9f719-0af2-4a7a-c7fc-ab18460f3187",
        "colab": {
          "base_uri": "https://localhost:8080/",
          "height": 195
        }
      },
      "source": [
        "df_images.head()"
      ],
      "execution_count": null,
      "outputs": [
        {
          "output_type": "execute_result",
          "data": {
            "text/html": [
              "<div>\n",
              "<style scoped>\n",
              "    .dataframe tbody tr th:only-of-type {\n",
              "        vertical-align: middle;\n",
              "    }\n",
              "\n",
              "    .dataframe tbody tr th {\n",
              "        vertical-align: top;\n",
              "    }\n",
              "\n",
              "    .dataframe thead th {\n",
              "        text-align: right;\n",
              "    }\n",
              "</style>\n",
              "<table border=\"1\" class=\"dataframe\">\n",
              "  <thead>\n",
              "    <tr style=\"text-align: right;\">\n",
              "      <th></th>\n",
              "      <th>images_name</th>\n",
              "      <th>image_paths</th>\n",
              "    </tr>\n",
              "  </thead>\n",
              "  <tbody>\n",
              "    <tr>\n",
              "      <th>0</th>\n",
              "      <td>cat.9596.jpg</td>\n",
              "      <td>/content/drive/My Drive/cats-dogs/train/cat.95...</td>\n",
              "    </tr>\n",
              "    <tr>\n",
              "      <th>1</th>\n",
              "      <td>cat.9545.jpg</td>\n",
              "      <td>/content/drive/My Drive/cats-dogs/train/cat.95...</td>\n",
              "    </tr>\n",
              "    <tr>\n",
              "      <th>2</th>\n",
              "      <td>cat.9574.jpg</td>\n",
              "      <td>/content/drive/My Drive/cats-dogs/train/cat.95...</td>\n",
              "    </tr>\n",
              "    <tr>\n",
              "      <th>3</th>\n",
              "      <td>cat.9560.jpg</td>\n",
              "      <td>/content/drive/My Drive/cats-dogs/train/cat.95...</td>\n",
              "    </tr>\n",
              "    <tr>\n",
              "      <th>4</th>\n",
              "      <td>cat.9586.jpg</td>\n",
              "      <td>/content/drive/My Drive/cats-dogs/train/cat.95...</td>\n",
              "    </tr>\n",
              "  </tbody>\n",
              "</table>\n",
              "</div>"
            ],
            "text/plain": [
              "    images_name                                        image_paths\n",
              "0  cat.9596.jpg  /content/drive/My Drive/cats-dogs/train/cat.95...\n",
              "1  cat.9545.jpg  /content/drive/My Drive/cats-dogs/train/cat.95...\n",
              "2  cat.9574.jpg  /content/drive/My Drive/cats-dogs/train/cat.95...\n",
              "3  cat.9560.jpg  /content/drive/My Drive/cats-dogs/train/cat.95...\n",
              "4  cat.9586.jpg  /content/drive/My Drive/cats-dogs/train/cat.95..."
            ]
          },
          "metadata": {
            "tags": []
          },
          "execution_count": 28
        }
      ]
    },
    {
      "cell_type": "code",
      "metadata": {
        "id": "83KtlyXipZqD"
      },
      "source": [
        "def map_labels(images):\n",
        "  \"\"\"\n",
        "  Maps the corresponding images to labels\n",
        "  \n",
        "  Arguments:\n",
        "  images -- list of images in \".jpg\" format\n",
        "  Returns:\n",
        "  list of corresponding labels\n",
        "  \"\"\"\n",
        "  labels=[]\n",
        "  for i in images:\n",
        "    if i.startswith(\"cat\"):\n",
        "      labels.append(0)\n",
        "    else:\n",
        "      labels.append(1)\n",
        "\n",
        "  return labels    "
      ],
      "execution_count": null,
      "outputs": []
    },
    {
      "cell_type": "code",
      "metadata": {
        "id": "dwiwyBBPpqk5"
      },
      "source": [
        "train_images_labels = map_labels(train_images)"
      ],
      "execution_count": null,
      "outputs": []
    },
    {
      "cell_type": "code",
      "metadata": {
        "id": "tdI2SZwRp_vd",
        "outputId": "822d9a82-0685-4def-eeb5-48cf36e3d3b9",
        "colab": {
          "base_uri": "https://localhost:8080/",
          "height": 34
        }
      },
      "source": [
        "len(train_images), len(images_paths), len(train_images_labels)"
      ],
      "execution_count": null,
      "outputs": [
        {
          "output_type": "execute_result",
          "data": {
            "text/plain": [
              "(25000, 25000, 25000)"
            ]
          },
          "metadata": {
            "tags": []
          },
          "execution_count": 31
        }
      ]
    },
    {
      "cell_type": "code",
      "metadata": {
        "id": "-hZHCEOeqDMH"
      },
      "source": [
        "df_images[\"labels\"] = train_images_labels"
      ],
      "execution_count": null,
      "outputs": []
    },
    {
      "cell_type": "code",
      "metadata": {
        "id": "3bS3EQkmqdc_",
        "outputId": "a01227c1-74b6-483f-87eb-669c930c2d20",
        "colab": {
          "base_uri": "https://localhost:8080/",
          "height": 402
        }
      },
      "source": [
        "df_images"
      ],
      "execution_count": null,
      "outputs": [
        {
          "output_type": "execute_result",
          "data": {
            "text/html": [
              "<div>\n",
              "<style scoped>\n",
              "    .dataframe tbody tr th:only-of-type {\n",
              "        vertical-align: middle;\n",
              "    }\n",
              "\n",
              "    .dataframe tbody tr th {\n",
              "        vertical-align: top;\n",
              "    }\n",
              "\n",
              "    .dataframe thead th {\n",
              "        text-align: right;\n",
              "    }\n",
              "</style>\n",
              "<table border=\"1\" class=\"dataframe\">\n",
              "  <thead>\n",
              "    <tr style=\"text-align: right;\">\n",
              "      <th></th>\n",
              "      <th>images_name</th>\n",
              "      <th>image_paths</th>\n",
              "      <th>labels</th>\n",
              "    </tr>\n",
              "  </thead>\n",
              "  <tbody>\n",
              "    <tr>\n",
              "      <th>0</th>\n",
              "      <td>cat.9596.jpg</td>\n",
              "      <td>/content/drive/My Drive/cats-dogs/train/cat.95...</td>\n",
              "      <td>0</td>\n",
              "    </tr>\n",
              "    <tr>\n",
              "      <th>1</th>\n",
              "      <td>cat.9545.jpg</td>\n",
              "      <td>/content/drive/My Drive/cats-dogs/train/cat.95...</td>\n",
              "      <td>0</td>\n",
              "    </tr>\n",
              "    <tr>\n",
              "      <th>2</th>\n",
              "      <td>cat.9574.jpg</td>\n",
              "      <td>/content/drive/My Drive/cats-dogs/train/cat.95...</td>\n",
              "      <td>0</td>\n",
              "    </tr>\n",
              "    <tr>\n",
              "      <th>3</th>\n",
              "      <td>cat.9560.jpg</td>\n",
              "      <td>/content/drive/My Drive/cats-dogs/train/cat.95...</td>\n",
              "      <td>0</td>\n",
              "    </tr>\n",
              "    <tr>\n",
              "      <th>4</th>\n",
              "      <td>cat.9586.jpg</td>\n",
              "      <td>/content/drive/My Drive/cats-dogs/train/cat.95...</td>\n",
              "      <td>0</td>\n",
              "    </tr>\n",
              "    <tr>\n",
              "      <th>...</th>\n",
              "      <td>...</td>\n",
              "      <td>...</td>\n",
              "      <td>...</td>\n",
              "    </tr>\n",
              "    <tr>\n",
              "      <th>24995</th>\n",
              "      <td>dog.10141.jpg</td>\n",
              "      <td>/content/drive/My Drive/cats-dogs/train/dog.10...</td>\n",
              "      <td>1</td>\n",
              "    </tr>\n",
              "    <tr>\n",
              "      <th>24996</th>\n",
              "      <td>dog.1010.jpg</td>\n",
              "      <td>/content/drive/My Drive/cats-dogs/train/dog.10...</td>\n",
              "      <td>1</td>\n",
              "    </tr>\n",
              "    <tr>\n",
              "      <th>24997</th>\n",
              "      <td>dog.1013.jpg</td>\n",
              "      <td>/content/drive/My Drive/cats-dogs/train/dog.10...</td>\n",
              "      <td>1</td>\n",
              "    </tr>\n",
              "    <tr>\n",
              "      <th>24998</th>\n",
              "      <td>dog.10115.jpg</td>\n",
              "      <td>/content/drive/My Drive/cats-dogs/train/dog.10...</td>\n",
              "      <td>1</td>\n",
              "    </tr>\n",
              "    <tr>\n",
              "      <th>24999</th>\n",
              "      <td>dog.10147.jpg</td>\n",
              "      <td>/content/drive/My Drive/cats-dogs/train/dog.10...</td>\n",
              "      <td>1</td>\n",
              "    </tr>\n",
              "  </tbody>\n",
              "</table>\n",
              "<p>25000 rows × 3 columns</p>\n",
              "</div>"
            ],
            "text/plain": [
              "         images_name                                        image_paths  labels\n",
              "0       cat.9596.jpg  /content/drive/My Drive/cats-dogs/train/cat.95...       0\n",
              "1       cat.9545.jpg  /content/drive/My Drive/cats-dogs/train/cat.95...       0\n",
              "2       cat.9574.jpg  /content/drive/My Drive/cats-dogs/train/cat.95...       0\n",
              "3       cat.9560.jpg  /content/drive/My Drive/cats-dogs/train/cat.95...       0\n",
              "4       cat.9586.jpg  /content/drive/My Drive/cats-dogs/train/cat.95...       0\n",
              "...              ...                                                ...     ...\n",
              "24995  dog.10141.jpg  /content/drive/My Drive/cats-dogs/train/dog.10...       1\n",
              "24996   dog.1010.jpg  /content/drive/My Drive/cats-dogs/train/dog.10...       1\n",
              "24997   dog.1013.jpg  /content/drive/My Drive/cats-dogs/train/dog.10...       1\n",
              "24998  dog.10115.jpg  /content/drive/My Drive/cats-dogs/train/dog.10...       1\n",
              "24999  dog.10147.jpg  /content/drive/My Drive/cats-dogs/train/dog.10...       1\n",
              "\n",
              "[25000 rows x 3 columns]"
            ]
          },
          "metadata": {
            "tags": []
          },
          "execution_count": 33
        }
      ]
    },
    {
      "cell_type": "code",
      "metadata": {
        "id": "460lOwFmqgkA",
        "outputId": "6418be27-e093-4560-d6df-f1b12d733f4b",
        "colab": {
          "base_uri": "https://localhost:8080/",
          "height": 67
        }
      },
      "source": [
        "df_images['labels'].value_counts()"
      ],
      "execution_count": null,
      "outputs": [
        {
          "output_type": "execute_result",
          "data": {
            "text/plain": [
              "1    12500\n",
              "0    12500\n",
              "Name: labels, dtype: int64"
            ]
          },
          "metadata": {
            "tags": []
          },
          "execution_count": 34
        }
      ]
    },
    {
      "cell_type": "code",
      "metadata": {
        "id": "9a13BrZ6q9-x"
      },
      "source": [
        "#shuffle images\n",
        "np.random.seed(15)\n",
        "df_images_shuffled = df_images.sample(frac=1)"
      ],
      "execution_count": null,
      "outputs": []
    },
    {
      "cell_type": "code",
      "metadata": {
        "id": "632PP0DSryQ6",
        "outputId": "89b9a383-f954-454a-b12e-3f37c4d71816",
        "colab": {
          "base_uri": "https://localhost:8080/",
          "height": 402
        }
      },
      "source": [
        "df_images"
      ],
      "execution_count": null,
      "outputs": [
        {
          "output_type": "execute_result",
          "data": {
            "text/html": [
              "<div>\n",
              "<style scoped>\n",
              "    .dataframe tbody tr th:only-of-type {\n",
              "        vertical-align: middle;\n",
              "    }\n",
              "\n",
              "    .dataframe tbody tr th {\n",
              "        vertical-align: top;\n",
              "    }\n",
              "\n",
              "    .dataframe thead th {\n",
              "        text-align: right;\n",
              "    }\n",
              "</style>\n",
              "<table border=\"1\" class=\"dataframe\">\n",
              "  <thead>\n",
              "    <tr style=\"text-align: right;\">\n",
              "      <th></th>\n",
              "      <th>images_name</th>\n",
              "      <th>image_paths</th>\n",
              "      <th>labels</th>\n",
              "    </tr>\n",
              "  </thead>\n",
              "  <tbody>\n",
              "    <tr>\n",
              "      <th>0</th>\n",
              "      <td>cat.9596.jpg</td>\n",
              "      <td>/content/drive/My Drive/cats-dogs/train/cat.95...</td>\n",
              "      <td>0</td>\n",
              "    </tr>\n",
              "    <tr>\n",
              "      <th>1</th>\n",
              "      <td>cat.9545.jpg</td>\n",
              "      <td>/content/drive/My Drive/cats-dogs/train/cat.95...</td>\n",
              "      <td>0</td>\n",
              "    </tr>\n",
              "    <tr>\n",
              "      <th>2</th>\n",
              "      <td>cat.9574.jpg</td>\n",
              "      <td>/content/drive/My Drive/cats-dogs/train/cat.95...</td>\n",
              "      <td>0</td>\n",
              "    </tr>\n",
              "    <tr>\n",
              "      <th>3</th>\n",
              "      <td>cat.9560.jpg</td>\n",
              "      <td>/content/drive/My Drive/cats-dogs/train/cat.95...</td>\n",
              "      <td>0</td>\n",
              "    </tr>\n",
              "    <tr>\n",
              "      <th>4</th>\n",
              "      <td>cat.9586.jpg</td>\n",
              "      <td>/content/drive/My Drive/cats-dogs/train/cat.95...</td>\n",
              "      <td>0</td>\n",
              "    </tr>\n",
              "    <tr>\n",
              "      <th>...</th>\n",
              "      <td>...</td>\n",
              "      <td>...</td>\n",
              "      <td>...</td>\n",
              "    </tr>\n",
              "    <tr>\n",
              "      <th>24995</th>\n",
              "      <td>dog.10141.jpg</td>\n",
              "      <td>/content/drive/My Drive/cats-dogs/train/dog.10...</td>\n",
              "      <td>1</td>\n",
              "    </tr>\n",
              "    <tr>\n",
              "      <th>24996</th>\n",
              "      <td>dog.1010.jpg</td>\n",
              "      <td>/content/drive/My Drive/cats-dogs/train/dog.10...</td>\n",
              "      <td>1</td>\n",
              "    </tr>\n",
              "    <tr>\n",
              "      <th>24997</th>\n",
              "      <td>dog.1013.jpg</td>\n",
              "      <td>/content/drive/My Drive/cats-dogs/train/dog.10...</td>\n",
              "      <td>1</td>\n",
              "    </tr>\n",
              "    <tr>\n",
              "      <th>24998</th>\n",
              "      <td>dog.10115.jpg</td>\n",
              "      <td>/content/drive/My Drive/cats-dogs/train/dog.10...</td>\n",
              "      <td>1</td>\n",
              "    </tr>\n",
              "    <tr>\n",
              "      <th>24999</th>\n",
              "      <td>dog.10147.jpg</td>\n",
              "      <td>/content/drive/My Drive/cats-dogs/train/dog.10...</td>\n",
              "      <td>1</td>\n",
              "    </tr>\n",
              "  </tbody>\n",
              "</table>\n",
              "<p>25000 rows × 3 columns</p>\n",
              "</div>"
            ],
            "text/plain": [
              "         images_name                                        image_paths  labels\n",
              "0       cat.9596.jpg  /content/drive/My Drive/cats-dogs/train/cat.95...       0\n",
              "1       cat.9545.jpg  /content/drive/My Drive/cats-dogs/train/cat.95...       0\n",
              "2       cat.9574.jpg  /content/drive/My Drive/cats-dogs/train/cat.95...       0\n",
              "3       cat.9560.jpg  /content/drive/My Drive/cats-dogs/train/cat.95...       0\n",
              "4       cat.9586.jpg  /content/drive/My Drive/cats-dogs/train/cat.95...       0\n",
              "...              ...                                                ...     ...\n",
              "24995  dog.10141.jpg  /content/drive/My Drive/cats-dogs/train/dog.10...       1\n",
              "24996   dog.1010.jpg  /content/drive/My Drive/cats-dogs/train/dog.10...       1\n",
              "24997   dog.1013.jpg  /content/drive/My Drive/cats-dogs/train/dog.10...       1\n",
              "24998  dog.10115.jpg  /content/drive/My Drive/cats-dogs/train/dog.10...       1\n",
              "24999  dog.10147.jpg  /content/drive/My Drive/cats-dogs/train/dog.10...       1\n",
              "\n",
              "[25000 rows x 3 columns]"
            ]
          },
          "metadata": {
            "tags": []
          },
          "execution_count": 36
        }
      ]
    },
    {
      "cell_type": "code",
      "metadata": {
        "id": "P6IyjCiyr0D9",
        "outputId": "a8837488-aba8-47a5-e11d-0ac8004190f2",
        "colab": {
          "base_uri": "https://localhost:8080/",
          "height": 402
        }
      },
      "source": [
        "df_images_shuffled"
      ],
      "execution_count": null,
      "outputs": [
        {
          "output_type": "execute_result",
          "data": {
            "text/html": [
              "<div>\n",
              "<style scoped>\n",
              "    .dataframe tbody tr th:only-of-type {\n",
              "        vertical-align: middle;\n",
              "    }\n",
              "\n",
              "    .dataframe tbody tr th {\n",
              "        vertical-align: top;\n",
              "    }\n",
              "\n",
              "    .dataframe thead th {\n",
              "        text-align: right;\n",
              "    }\n",
              "</style>\n",
              "<table border=\"1\" class=\"dataframe\">\n",
              "  <thead>\n",
              "    <tr style=\"text-align: right;\">\n",
              "      <th></th>\n",
              "      <th>images_name</th>\n",
              "      <th>image_paths</th>\n",
              "      <th>labels</th>\n",
              "    </tr>\n",
              "  </thead>\n",
              "  <tbody>\n",
              "    <tr>\n",
              "      <th>14986</th>\n",
              "      <td>dog.7867.jpg</td>\n",
              "      <td>/content/drive/My Drive/cats-dogs/train/dog.78...</td>\n",
              "      <td>1</td>\n",
              "    </tr>\n",
              "    <tr>\n",
              "      <th>1115</th>\n",
              "      <td>cat.8930.jpg</td>\n",
              "      <td>/content/drive/My Drive/cats-dogs/train/cat.89...</td>\n",
              "      <td>0</td>\n",
              "    </tr>\n",
              "    <tr>\n",
              "      <th>9687</th>\n",
              "      <td>cat.12166.jpg</td>\n",
              "      <td>/content/drive/My Drive/cats-dogs/train/cat.12...</td>\n",
              "      <td>0</td>\n",
              "    </tr>\n",
              "    <tr>\n",
              "      <th>18792</th>\n",
              "      <td>dog.4623.jpg</td>\n",
              "      <td>/content/drive/My Drive/cats-dogs/train/dog.46...</td>\n",
              "      <td>1</td>\n",
              "    </tr>\n",
              "    <tr>\n",
              "      <th>22117</th>\n",
              "      <td>dog.12223.jpg</td>\n",
              "      <td>/content/drive/My Drive/cats-dogs/train/dog.12...</td>\n",
              "      <td>1</td>\n",
              "    </tr>\n",
              "    <tr>\n",
              "      <th>...</th>\n",
              "      <td>...</td>\n",
              "      <td>...</td>\n",
              "      <td>...</td>\n",
              "    </tr>\n",
              "    <tr>\n",
              "      <th>16247</th>\n",
              "      <td>dog.648.jpg</td>\n",
              "      <td>/content/drive/My Drive/cats-dogs/train/dog.64...</td>\n",
              "      <td>1</td>\n",
              "    </tr>\n",
              "    <tr>\n",
              "      <th>2693</th>\n",
              "      <td>cat.7888.jpg</td>\n",
              "      <td>/content/drive/My Drive/cats-dogs/train/cat.78...</td>\n",
              "      <td>0</td>\n",
              "    </tr>\n",
              "    <tr>\n",
              "      <th>8076</th>\n",
              "      <td>cat.2827.jpg</td>\n",
              "      <td>/content/drive/My Drive/cats-dogs/train/cat.28...</td>\n",
              "      <td>0</td>\n",
              "    </tr>\n",
              "    <tr>\n",
              "      <th>20213</th>\n",
              "      <td>dog.3450.jpg</td>\n",
              "      <td>/content/drive/My Drive/cats-dogs/train/dog.34...</td>\n",
              "      <td>1</td>\n",
              "    </tr>\n",
              "    <tr>\n",
              "      <th>7624</th>\n",
              "      <td>cat.3189.jpg</td>\n",
              "      <td>/content/drive/My Drive/cats-dogs/train/cat.31...</td>\n",
              "      <td>0</td>\n",
              "    </tr>\n",
              "  </tbody>\n",
              "</table>\n",
              "<p>25000 rows × 3 columns</p>\n",
              "</div>"
            ],
            "text/plain": [
              "         images_name                                        image_paths  labels\n",
              "14986   dog.7867.jpg  /content/drive/My Drive/cats-dogs/train/dog.78...       1\n",
              "1115    cat.8930.jpg  /content/drive/My Drive/cats-dogs/train/cat.89...       0\n",
              "9687   cat.12166.jpg  /content/drive/My Drive/cats-dogs/train/cat.12...       0\n",
              "18792   dog.4623.jpg  /content/drive/My Drive/cats-dogs/train/dog.46...       1\n",
              "22117  dog.12223.jpg  /content/drive/My Drive/cats-dogs/train/dog.12...       1\n",
              "...              ...                                                ...     ...\n",
              "16247    dog.648.jpg  /content/drive/My Drive/cats-dogs/train/dog.64...       1\n",
              "2693    cat.7888.jpg  /content/drive/My Drive/cats-dogs/train/cat.78...       0\n",
              "8076    cat.2827.jpg  /content/drive/My Drive/cats-dogs/train/cat.28...       0\n",
              "20213   dog.3450.jpg  /content/drive/My Drive/cats-dogs/train/dog.34...       1\n",
              "7624    cat.3189.jpg  /content/drive/My Drive/cats-dogs/train/cat.31...       0\n",
              "\n",
              "[25000 rows x 3 columns]"
            ]
          },
          "metadata": {
            "tags": []
          },
          "execution_count": 37
        }
      ]
    },
    {
      "cell_type": "markdown",
      "metadata": {
        "id": "58vPVJRqsRze"
      },
      "source": [
        "## train-test split"
      ]
    },
    {
      "cell_type": "code",
      "metadata": {
        "id": "m7NMtjrYr3fY"
      },
      "source": [
        "# lets take 10000 images to test(50% train-test split)\n",
        "from sklearn.model_selection import train_test_split\n",
        "X = df_images_shuffled[\"image_paths\"][:1000]\n",
        "y = df_images_shuffled[\"labels\"][:1000]\n",
        "\n",
        "X_train, X_test, y_train, y_test = train_test_split(X, y, train_size=0.5)"
      ],
      "execution_count": null,
      "outputs": []
    },
    {
      "cell_type": "code",
      "metadata": {
        "id": "slSP0xiHxU1X",
        "outputId": "587a7d56-fee8-4158-ca79-483f62fdb4fe",
        "colab": {
          "base_uri": "https://localhost:8080/",
          "height": 34
        }
      },
      "source": [
        "len(X_train), len(X_test), len(y_train), len(y_test)"
      ],
      "execution_count": null,
      "outputs": [
        {
          "output_type": "execute_result",
          "data": {
            "text/plain": [
              "(500, 500, 500, 500)"
            ]
          },
          "metadata": {
            "tags": []
          },
          "execution_count": 74
        }
      ]
    },
    {
      "cell_type": "code",
      "metadata": {
        "id": "UCpTntp31CJR"
      },
      "source": [
        "df_train_test = pd.DataFrame({\"X_train\": list(X_train), \"y_train\": list(y_train), \"X_test\":list(X_test), \"y_test\": list(y_test)})"
      ],
      "execution_count": null,
      "outputs": []
    },
    {
      "cell_type": "code",
      "metadata": {
        "id": "h9U0iBgU1CMe",
        "outputId": "79f31922-65a2-404b-fae1-19f31dcb1983",
        "colab": {
          "base_uri": "https://localhost:8080/",
          "height": 402
        }
      },
      "source": [
        "df_train_test"
      ],
      "execution_count": null,
      "outputs": [
        {
          "output_type": "execute_result",
          "data": {
            "text/html": [
              "<div>\n",
              "<style scoped>\n",
              "    .dataframe tbody tr th:only-of-type {\n",
              "        vertical-align: middle;\n",
              "    }\n",
              "\n",
              "    .dataframe tbody tr th {\n",
              "        vertical-align: top;\n",
              "    }\n",
              "\n",
              "    .dataframe thead th {\n",
              "        text-align: right;\n",
              "    }\n",
              "</style>\n",
              "<table border=\"1\" class=\"dataframe\">\n",
              "  <thead>\n",
              "    <tr style=\"text-align: right;\">\n",
              "      <th></th>\n",
              "      <th>X_train</th>\n",
              "      <th>y_train</th>\n",
              "      <th>X_test</th>\n",
              "      <th>y_test</th>\n",
              "    </tr>\n",
              "  </thead>\n",
              "  <tbody>\n",
              "    <tr>\n",
              "      <th>0</th>\n",
              "      <td>/content/drive/My Drive/cats-dogs/train/cat.17...</td>\n",
              "      <td>0</td>\n",
              "      <td>/content/drive/My Drive/cats-dogs/train/cat.13...</td>\n",
              "      <td>0</td>\n",
              "    </tr>\n",
              "    <tr>\n",
              "      <th>1</th>\n",
              "      <td>/content/drive/My Drive/cats-dogs/train/dog.16...</td>\n",
              "      <td>1</td>\n",
              "      <td>/content/drive/My Drive/cats-dogs/train/dog.27...</td>\n",
              "      <td>1</td>\n",
              "    </tr>\n",
              "    <tr>\n",
              "      <th>2</th>\n",
              "      <td>/content/drive/My Drive/cats-dogs/train/cat.85...</td>\n",
              "      <td>0</td>\n",
              "      <td>/content/drive/My Drive/cats-dogs/train/dog.11...</td>\n",
              "      <td>1</td>\n",
              "    </tr>\n",
              "    <tr>\n",
              "      <th>3</th>\n",
              "      <td>/content/drive/My Drive/cats-dogs/train/dog.53...</td>\n",
              "      <td>1</td>\n",
              "      <td>/content/drive/My Drive/cats-dogs/train/cat.16...</td>\n",
              "      <td>0</td>\n",
              "    </tr>\n",
              "    <tr>\n",
              "      <th>4</th>\n",
              "      <td>/content/drive/My Drive/cats-dogs/train/dog.23...</td>\n",
              "      <td>1</td>\n",
              "      <td>/content/drive/My Drive/cats-dogs/train/dog.83...</td>\n",
              "      <td>1</td>\n",
              "    </tr>\n",
              "    <tr>\n",
              "      <th>...</th>\n",
              "      <td>...</td>\n",
              "      <td>...</td>\n",
              "      <td>...</td>\n",
              "      <td>...</td>\n",
              "    </tr>\n",
              "    <tr>\n",
              "      <th>495</th>\n",
              "      <td>/content/drive/My Drive/cats-dogs/train/dog.24...</td>\n",
              "      <td>1</td>\n",
              "      <td>/content/drive/My Drive/cats-dogs/train/cat.11...</td>\n",
              "      <td>0</td>\n",
              "    </tr>\n",
              "    <tr>\n",
              "      <th>496</th>\n",
              "      <td>/content/drive/My Drive/cats-dogs/train/dog.10...</td>\n",
              "      <td>1</td>\n",
              "      <td>/content/drive/My Drive/cats-dogs/train/cat.93...</td>\n",
              "      <td>0</td>\n",
              "    </tr>\n",
              "    <tr>\n",
              "      <th>497</th>\n",
              "      <td>/content/drive/My Drive/cats-dogs/train/dog.78...</td>\n",
              "      <td>1</td>\n",
              "      <td>/content/drive/My Drive/cats-dogs/train/cat.50...</td>\n",
              "      <td>0</td>\n",
              "    </tr>\n",
              "    <tr>\n",
              "      <th>498</th>\n",
              "      <td>/content/drive/My Drive/cats-dogs/train/cat.91...</td>\n",
              "      <td>0</td>\n",
              "      <td>/content/drive/My Drive/cats-dogs/train/dog.10...</td>\n",
              "      <td>1</td>\n",
              "    </tr>\n",
              "    <tr>\n",
              "      <th>499</th>\n",
              "      <td>/content/drive/My Drive/cats-dogs/train/dog.74...</td>\n",
              "      <td>1</td>\n",
              "      <td>/content/drive/My Drive/cats-dogs/train/dog.35...</td>\n",
              "      <td>1</td>\n",
              "    </tr>\n",
              "  </tbody>\n",
              "</table>\n",
              "<p>500 rows × 4 columns</p>\n",
              "</div>"
            ],
            "text/plain": [
              "                                               X_train  ...  y_test\n",
              "0    /content/drive/My Drive/cats-dogs/train/cat.17...  ...       0\n",
              "1    /content/drive/My Drive/cats-dogs/train/dog.16...  ...       1\n",
              "2    /content/drive/My Drive/cats-dogs/train/cat.85...  ...       1\n",
              "3    /content/drive/My Drive/cats-dogs/train/dog.53...  ...       0\n",
              "4    /content/drive/My Drive/cats-dogs/train/dog.23...  ...       1\n",
              "..                                                 ...  ...     ...\n",
              "495  /content/drive/My Drive/cats-dogs/train/dog.24...  ...       0\n",
              "496  /content/drive/My Drive/cats-dogs/train/dog.10...  ...       0\n",
              "497  /content/drive/My Drive/cats-dogs/train/dog.78...  ...       0\n",
              "498  /content/drive/My Drive/cats-dogs/train/cat.91...  ...       1\n",
              "499  /content/drive/My Drive/cats-dogs/train/dog.74...  ...       1\n",
              "\n",
              "[500 rows x 4 columns]"
            ]
          },
          "metadata": {
            "tags": []
          },
          "execution_count": 76
        }
      ]
    },
    {
      "cell_type": "markdown",
      "metadata": {
        "id": "WRK11Y9ywdrK"
      },
      "source": [
        "## turn images to numpy array\n"
      ]
    },
    {
      "cell_type": "code",
      "metadata": {
        "id": "_R7TSUvDv-kT"
      },
      "source": [
        "import cv2\n",
        "def image_to_array(image_paths):\n",
        "  \"\"\"\n",
        "  Turn images to a array of shape=(64,64,3)\n",
        "\n",
        "  Arguments:\n",
        "  image_paths -- list of image paths\n",
        "\n",
        "  Returns:\n",
        "  list of images conerted to numpy arrays\n",
        "  \"\"\"\n",
        "  arrays = []\n",
        "  num_px = 64\n",
        "  for i in image_paths:\n",
        "    img = cv2.imread(i)\n",
        "    res = cv2.resize(img, dsize=(num_px,num_px), interpolation=cv2.INTER_CUBIC)\n",
        "    arrays.append(res)\n",
        "\n",
        "  return arrays"
      ],
      "execution_count": null,
      "outputs": []
    },
    {
      "cell_type": "code",
      "metadata": {
        "id": "e10tZkZF0MIH"
      },
      "source": [
        "X_train_processed = image_to_array(df_train_test[\"X_train\"])"
      ],
      "execution_count": null,
      "outputs": []
    },
    {
      "cell_type": "code",
      "metadata": {
        "id": "QXtmfoAhJNnt"
      },
      "source": [
        "X_test_processed = image_to_array(df_train_test[\"X_test\"])"
      ],
      "execution_count": null,
      "outputs": []
    },
    {
      "cell_type": "code",
      "metadata": {
        "id": "7wSHNOTZcxtf",
        "outputId": "c0baf344-523d-4ae2-fcf0-afbc5c6a22a1",
        "colab": {
          "base_uri": "https://localhost:8080/",
          "height": 34
        }
      },
      "source": [
        "len(X_train_processed), len(X_test_processed)"
      ],
      "execution_count": null,
      "outputs": [
        {
          "output_type": "execute_result",
          "data": {
            "text/plain": [
              "(500, 500)"
            ]
          },
          "metadata": {
            "tags": []
          },
          "execution_count": 82
        }
      ]
    },
    {
      "cell_type": "code",
      "metadata": {
        "id": "nG1UoeqSWRF3"
      },
      "source": [
        "X_train = np.array(X_train_processed)"
      ],
      "execution_count": null,
      "outputs": []
    },
    {
      "cell_type": "code",
      "metadata": {
        "id": "xE4TFQAaXDBF"
      },
      "source": [
        "X_test = np.array(X_test_processed)"
      ],
      "execution_count": null,
      "outputs": []
    },
    {
      "cell_type": "code",
      "metadata": {
        "id": "RlyaJtdCXnvf"
      },
      "source": [
        "train_y = np.array(y_train)\n",
        "train_y = train_y.reshape(1,500)\n",
        "test_y = np.array(y_test)\n",
        "test_y = train_y.reshape(1,500)"
      ],
      "execution_count": null,
      "outputs": []
    },
    {
      "cell_type": "code",
      "metadata": {
        "id": "qdjTAEkwYJGr",
        "outputId": "e5b17695-dfb6-4e56-fc77-1e4aed5bb221",
        "colab": {
          "base_uri": "https://localhost:8080/",
          "height": 34
        }
      },
      "source": [
        "train_y.shape, test_y.shape"
      ],
      "execution_count": null,
      "outputs": [
        {
          "output_type": "execute_result",
          "data": {
            "text/plain": [
              "((1, 5000), (1, 5000))"
            ]
          },
          "metadata": {
            "tags": []
          },
          "execution_count": 50
        }
      ]
    },
    {
      "cell_type": "code",
      "metadata": {
        "id": "g_BZRuzbXWIA",
        "outputId": "3f96dc85-10d5-4a66-e785-d732dec97131",
        "colab": {
          "base_uri": "https://localhost:8080/",
          "height": 50
        }
      },
      "source": [
        "\n",
        "# Reshape X_train, X_test to shape(n_x,m)\n",
        "train_X_flatten = X_train.reshape(X_train.shape[0], -1).T\n",
        "test_X_flatten = X_test.reshape(X_test.shape[0], -1).T\n",
        "\n",
        "train_X = train_X_flatten/255\n",
        "test_X = test_X_flatten/255\n",
        "\n",
        "print (\"X_train shape: \" + str(train_X.shape))\n",
        "print (\"X_test shape: \" + str(test_X.shape))"
      ],
      "execution_count": null,
      "outputs": [
        {
          "output_type": "stream",
          "text": [
            "X_train shape: (12288, 500)\n",
            "X_test shape: (12288, 500)\n"
          ],
          "name": "stdout"
        }
      ]
    },
    {
      "cell_type": "markdown",
      "metadata": {
        "id": "dfIoUCt8csit"
      },
      "source": [
        "#Training the model"
      ]
    },
    {
      "cell_type": "code",
      "metadata": {
        "id": "CUQ34CT0cwLb"
      },
      "source": [
        "layers_dims = [12288,10,5,1] "
      ],
      "execution_count": null,
      "outputs": []
    },
    {
      "cell_type": "code",
      "metadata": {
        "id": "CjZhLZ6xcWfS",
        "outputId": "c892a1e0-c877-4d7a-da7f-85529f20847a",
        "colab": {
          "base_uri": "https://localhost:8080/",
          "height": 1000
        }
      },
      "source": [
        "parameters1 = L_layer_model(train_X, train_y, layers_dims=layers_dims, learning_rate=0.05, num_iterations = 5000, print_cost = True)"
      ],
      "execution_count": null,
      "outputs": [
        {
          "output_type": "stream",
          "text": [
            "Cost after iteration 0: 0.693142\n",
            "Cost after iteration 100: 0.692675\n",
            "Cost after iteration 200: 0.692636\n",
            "Cost after iteration 300: 0.692632\n",
            "Cost after iteration 400: 0.692631\n",
            "Cost after iteration 500: 0.692625\n",
            "Cost after iteration 600: 0.692620\n",
            "Cost after iteration 700: 0.692614\n",
            "Cost after iteration 800: 0.692607\n",
            "Cost after iteration 900: 0.692596\n",
            "Cost after iteration 1000: 0.692579\n",
            "Cost after iteration 1100: 0.692549\n",
            "Cost after iteration 1200: 0.692497\n",
            "Cost after iteration 1300: 0.692398\n",
            "Cost after iteration 1400: 0.692179\n",
            "Cost after iteration 1500: 0.691606\n",
            "Cost after iteration 1600: 0.689553\n",
            "Cost after iteration 1700: 0.677141\n",
            "Cost after iteration 1800: 0.662329\n",
            "Cost after iteration 1900: 0.619068\n",
            "Cost after iteration 2000: 0.606117\n",
            "Cost after iteration 2100: 0.512874\n",
            "Cost after iteration 2200: 0.610572\n",
            "Cost after iteration 2300: 0.544487\n",
            "Cost after iteration 2400: 0.601110\n",
            "Cost after iteration 2500: 0.417255\n",
            "Cost after iteration 2600: 0.428357\n",
            "Cost after iteration 2700: 0.435576\n",
            "Cost after iteration 2800: 0.695298\n",
            "Cost after iteration 2900: 0.437375\n",
            "Cost after iteration 3000: 0.414935\n",
            "Cost after iteration 3100: 0.473416\n",
            "Cost after iteration 3200: 0.391872\n",
            "Cost after iteration 3300: 0.589961\n",
            "Cost after iteration 3400: 0.667607\n",
            "Cost after iteration 3500: 1.105404\n",
            "Cost after iteration 3600: 0.542207\n",
            "Cost after iteration 3700: 0.721323\n",
            "Cost after iteration 3800: 0.291873\n",
            "Cost after iteration 3900: 0.409995\n",
            "Cost after iteration 4000: 0.329012\n",
            "Cost after iteration 4100: 0.727705\n",
            "Cost after iteration 4200: 0.540051\n",
            "Cost after iteration 4300: 0.244263\n",
            "Cost after iteration 4400: 0.279238\n",
            "Cost after iteration 4500: 0.286915\n",
            "Cost after iteration 4600: 0.264012\n",
            "Cost after iteration 4700: 0.235446\n",
            "Cost after iteration 4800: 0.679625\n",
            "Cost after iteration 4900: 0.188147\n"
          ],
          "name": "stdout"
        },
        {
          "output_type": "display_data",
          "data": {
            "image/png": "[encoded data removed]",
            "text/plain": [
              "<Figure size 432x288 with 1 Axes>"
            ]
          },
          "metadata": {
            "tags": [],
            "needs_background": "light"
          }
        }
      ]
    },
    {
      "cell_type": "code",
      "metadata": {
        "id": "7pLUQqfFcWYG",
        "outputId": "9493022a-9069-4b37-b1d5-f87fb209e6ff",
        "colab": {
          "base_uri": "https://localhost:8080/",
          "height": 386
        }
      },
      "source": [
        "print(predict(train_X, train_y, parameters1))"
      ],
      "execution_count": null,
      "outputs": [
        {
          "output_type": "stream",
          "text": [
            "Accuracy: 0.9960000000000003\n",
            "[[0. 1. 1. 1. 1. 1. 1. 0. 0. 1. 0. 1. 0. 1. 1. 0. 0. 1. 1. 1. 1. 1. 0. 0.\n",
            "  1. 1. 0. 1. 0. 1. 1. 0. 1. 0. 0. 1. 0. 1. 0. 0. 1. 0. 1. 0. 1. 1. 1. 0.\n",
            "  0. 1. 1. 0. 1. 0. 1. 1. 1. 0. 1. 0. 1. 1. 1. 1. 0. 0. 0. 1. 1. 1. 0. 1.\n",
            "  1. 1. 1. 0. 1. 0. 0. 0. 0. 0. 0. 1. 0. 0. 0. 0. 0. 1. 1. 0. 1. 1. 1. 0.\n",
            "  1. 0. 0. 1. 0. 1. 1. 0. 0. 0. 0. 1. 0. 0. 0. 1. 0. 1. 1. 0. 0. 1. 0. 0.\n",
            "  0. 1. 0. 0. 1. 1. 1. 1. 1. 1. 1. 1. 1. 1. 1. 0. 1. 1. 1. 0. 1. 1. 0. 1.\n",
            "  1. 0. 0. 0. 1. 0. 1. 1. 1. 0. 1. 0. 0. 1. 0. 1. 1. 0. 1. 0. 1. 0. 1. 1.\n",
            "  0. 1. 1. 0. 0. 1. 0. 0. 0. 1. 1. 1. 0. 0. 1. 0. 1. 1. 1. 1. 0. 0. 0. 0.\n",
            "  1. 0. 1. 1. 1. 1. 0. 0. 1. 1. 0. 0. 0. 1. 0. 1. 0. 0. 0. 0. 0. 0. 1. 0.\n",
            "  1. 0. 1. 0. 1. 0. 1. 0. 1. 0. 1. 1. 1. 1. 0. 1. 1. 1. 0. 1. 0. 1. 0. 0.\n",
            "  0. 1. 1. 1. 1. 1. 0. 1. 1. 1. 1. 0. 0. 0. 1. 0. 0. 1. 0. 0. 0. 0. 1. 1.\n",
            "  1. 0. 1. 1. 0. 1. 1. 1. 0. 0. 1. 1. 0. 1. 0. 0. 0. 1. 1. 1. 1. 0. 0. 0.\n",
            "  1. 1. 0. 1. 1. 1. 0. 1. 0. 0. 0. 0. 1. 1. 0. 1. 1. 1. 0. 0. 1. 0. 1. 1.\n",
            "  0. 0. 1. 0. 0. 0. 1. 0. 0. 0. 0. 0. 0. 1. 0. 1. 1. 0. 0. 1. 0. 1. 1. 1.\n",
            "  0. 0. 1. 1. 0. 1. 0. 0. 1. 0. 1. 0. 0. 0. 1. 1. 0. 0. 1. 0. 0. 0. 1. 1.\n",
            "  0. 1. 0. 0. 0. 0. 1. 0. 0. 0. 1. 0. 0. 1. 0. 0. 0. 1. 1. 0. 1. 1. 1. 1.\n",
            "  1. 0. 1. 1. 0. 1. 0. 0. 1. 0. 1. 0. 1. 0. 1. 0. 1. 1. 0. 1. 0. 0. 1. 1.\n",
            "  1. 1. 0. 1. 0. 0. 1. 1. 0. 0. 1. 0. 1. 0. 1. 1. 1. 1. 1. 0. 0. 0. 1. 0.\n",
            "  0. 1. 0. 0. 0. 1. 1. 0. 1. 0. 0. 0. 0. 1. 0. 0. 1. 0. 0. 1. 1. 1. 1. 0.\n",
            "  0. 1. 1. 1. 0. 1. 0. 0. 1. 0. 1. 1. 1. 1. 1. 0. 1. 1. 1. 1. 1. 0. 1. 0.\n",
            "  1. 1. 0. 1. 0. 1. 1. 0. 0. 0. 0. 0. 1. 1. 0. 1. 1. 1. 0. 1.]]\n"
          ],
          "name": "stdout"
        }
      ]
    },
    {
      "cell_type": "code",
      "metadata": {
        "id": "1_b4H7IW2ENG"
      },
      "source": [],
      "execution_count": null,
      "outputs": []
    }
  ]
}